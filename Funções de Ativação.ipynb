{
  "nbformat": 4,
  "nbformat_minor": 0,
  "metadata": {
    "kernelspec": {
      "display_name": "Python 3.7.8 64-bit",
      "language": "python",
      "name": "python_defaultSpec_1602027522147"
    },
    "language_info": {
      "codemirror_mode": {
        "name": "ipython",
        "version": 3
      },
      "file_extension": ".py",
      "mimetype": "text/x-python",
      "name": "python",
      "nbconvert_exporter": "python",
      "pygments_lexer": "ipython3",
      "version": "3.7.8-final"
    },
    "colab": {
      "name": "Funções de Ativação.ipynb",
      "provenance": [],
      "collapsed_sections": []
    }
  },
  "cells": [
    {
      "cell_type": "markdown",
      "metadata": {
        "id": "xOg04dHU4l_N"
      },
      "source": [
        "# Conhecendo as Funções de Ativação\n",
        "\n",
        "**Disciplina**: Redes Neurais Artificiais 2020.1  \n",
        "**Professora**: Elloá B. Guedes (ebgcosta@uea.edu.br)  \n",
        "**Github**: http://github.com/elloa  \n",
        "**Alunos**: Vitor Simões e Wilbert Marins\n",
        "\n",
        "## Apresentação\n",
        "\n",
        "No contexto das redes neurais artificiais, as funções de ativação representam as transformações aplicadas às entradas do neurônio sujeitas aos respectivos graus de contribuição (pesos) para decidir se este neurônio deve ou não disparar. Ao considerar as redes neurais feedforward multilayer perceptron, tais funções de ativação devem ser contínuas e deriváveis, sendo responsáveis por realizarem transformações não-lineares sucessivas da informação fornecida na camada de entrada até a camada de saída, fazendo com que o problema vá tornando-se linearmente separável à medida que adentra-se na rede.\n",
        "\n",
        "Neste notebook, o seu objetivo é conhecer melhor as funções de ativação disponíveis na literatura e suas respectivas derivadas. Você irá construir gráficos que ilustrem tais funções.\n",
        "\n",
        "## Requisitos\n",
        "\n",
        "- Utilizar numpy\n",
        "- Plotar com matplotlib"
      ]
    },
    {
      "cell_type": "code",
      "metadata": {
        "id": "zyv_hAcQ4l_O"
      },
      "source": [
        "# Célula reservada para importar bibliotecas\n",
        "import numpy as np\n",
        "import matplotlib.pyplot as plt"
      ],
      "execution_count": 2,
      "outputs": []
    },
    {
      "cell_type": "markdown",
      "metadata": {
        "id": "VZhmYKy-4l_T"
      },
      "source": [
        "## Intervalo de Entrada\n",
        "\n",
        "- Todas as funções devem ser ilustradas no intervalo [-4,+4] com amostras intervaladas em 0.1 no eixo x\n",
        "- Consulte a documentação de numpy.arange sobre como fazê-lo\n",
        "- https://numpy.org/doc/stable/reference/generated/numpy.arange.html#numpy.arange\n",
        "- Quantas amostras há em tal espaço de entrada?\n",
        "- Qual o tipo deste dado?\n",
        "- Qual a forma do espaço de entrada?"
      ]
    },
    {
      "cell_type": "code",
      "metadata": {
        "tags": [],
        "id": "yT2MTm0f4l_U"
      },
      "source": [
        "#intervalo de -4 até +4. Com espaçamento 0.1\n",
        "amostra=np.arange(-4,4,0.1)\n"
      ],
      "execution_count": 3,
      "outputs": []
    },
    {
      "cell_type": "code",
      "metadata": {
        "tags": [],
        "id": "ZjEr1V-44l_Z",
        "outputId": "351e4b82-d303-4b02-e937-cb6e9b6f72ee",
        "colab": {
          "base_uri": "https://localhost:8080/"
        }
      },
      "source": [
        "print(\"A quantidade de amostras contida nos dados é: \", amostra.shape[0])"
      ],
      "execution_count": 4,
      "outputs": [
        {
          "output_type": "stream",
          "text": [
            "A quantidade de amostras contida nos dados é:  80\n"
          ],
          "name": "stdout"
        }
      ]
    },
    {
      "cell_type": "code",
      "metadata": {
        "tags": [],
        "id": "_4IXENIN4l_d",
        "outputId": "c6759f8a-cb30-437e-95ee-0d8837cad342",
        "colab": {
          "base_uri": "https://localhost:8080/"
        }
      },
      "source": [
        "print(\"A tipagem dos dados é: \",(amostra.dtype))"
      ],
      "execution_count": 5,
      "outputs": [
        {
          "output_type": "stream",
          "text": [
            "A tipagem dos dados é:  float64\n"
          ],
          "name": "stdout"
        }
      ]
    },
    {
      "cell_type": "code",
      "metadata": {
        "tags": [],
        "id": "aHnwIDUF4l_h",
        "outputId": "3c1078dd-383e-4c66-ee8a-117184e90d8d",
        "colab": {
          "base_uri": "https://localhost:8080/"
        }
      },
      "source": [
        "print(\"A forma do espaço de entrada é:\",type(amostra))"
      ],
      "execution_count": 6,
      "outputs": [
        {
          "output_type": "stream",
          "text": [
            "A forma do espaço de entrada é: <class 'numpy.ndarray'>\n"
          ],
          "name": "stdout"
        }
      ]
    },
    {
      "cell_type": "markdown",
      "metadata": {
        "id": "4bKI7CHK4l_k"
      },
      "source": [
        "### Função de ativação sigmoide\n",
        "\n",
        "$$f(x) = \\frac{1}{1 + e^{-\\beta \\cdot x}}$$\n",
        "\n",
        "- Implemente uma função em Python que retorne o valor da função sigmóide para uma dada entrada\n",
        "- Nesta função, considere beta como parâmetro nomeado com valor igual a 1.0\n",
        "- Plote o gráfico da função no intervalo de entrada previamente especificado\n",
        "- Implemente uma função que retorne o valor da derivada da função sigmoide\n",
        "- Em um mesmo gráfico, ilustre 3 valores distintos para $\\beta$:\n",
        "  - $\\beta = 0.7$ na cor laranja\n",
        "  - $\\beta = 0.5$ na cor verde\n",
        "  - $\\beta = 0.3$ na cor vermelha\n",
        "  - Use legendas no gráfico"
      ]
    },
    {
      "cell_type": "code",
      "metadata": {
        "id": "BRbyFqCh4l_k"
      },
      "source": [
        "def sigmoid(x,beta):\n",
        "    s =1/(1 + np.exp(-beta*x))\n",
        "    ds= s*(1-s)\n",
        "    return s,ds\n",
        "\n",
        "# def derivada_sigmoide(x):\n",
        "    # return x * (1 - x)"
      ],
      "execution_count": 14,
      "outputs": []
    },
    {
      "cell_type": "code",
      "metadata": {
        "id": "o_mqthGF4l_n",
        "outputId": "dcbf65a9-76f7-4da8-82c0-e1746191c73a",
        "colab": {
          "base_uri": "https://localhost:8080/",
          "height": 320
        }
      },
      "source": [
        "fig, ax = plt.subplots(figsize=(9, 5))\n",
        "ax.spines['left'].set_position('center')\n",
        "ax.spines['right'].set_color('none')\n",
        "ax.spines['top'].set_color('none')\n",
        "ax.xaxis.set_ticks_position('bottom')\n",
        "ax.yaxis.set_ticks_position('left')\n",
        "ax.plot(amostra,sigmoid(amostra,0.7)[0], color=\"#ff8c00\", linewidth=3, label=\"sigmoid(b=0.7)\")\n",
        "ax.plot(amostra,sigmoid(amostra,0.5)[0], color=\"#00ff00\", linewidth=3, label=\"sigmoid(b=0.5)\")\n",
        "ax.plot(amostra,sigmoid(amostra,0.3)[0], color=\"#ff0000\", linewidth=3, label=\"sigmoid(b=0.3)\")\n",
        "ax.plot(amostra,sigmoid(amostra,0.7)[1], color=\"#cc7000\", linewidth=2, label=\"derivative-sigmoid(b=0.7)\")\n",
        "ax.plot(amostra,sigmoid(amostra,0.5)[1], color=\"#3a925e\", linewidth=2, label=\"derivative-sigmoid(b=0.5)\")\n",
        "ax.plot(amostra,sigmoid(amostra,0.3)[1], color=\"#cc0000\", linewidth=2, label=\"derivative-sigmoid(b=0.3)\")\n",
        "ax.legend(loc=\"upper left\", frameon=False)\n",
        "fig.show()"
      ],
      "execution_count": 21,
      "outputs": [
        {
          "output_type": "display_data",
          "data": {
            "image/png": "[encoded data removed]",
            "text/plain": [
              "<Figure size 648x360 with 1 Axes>"
            ]
          },
          "metadata": {
            "tags": [],
            "needs_background": "light"
          }
        }
      ]
    },
    {
      "cell_type": "code",
      "metadata": {
        "id": "B_509GKK4l_r"
      },
      "source": [
        ""
      ],
      "execution_count": null,
      "outputs": []
    },
    {
      "cell_type": "markdown",
      "metadata": {
        "id": "-uxfvKWZ4l_u"
      },
      "source": [
        "### Função de Ativação ReLU (Unidade Linear Retificada)\n",
        "\n",
        "$$f(x) = max(0,x)$$\n",
        "\n",
        "- Implemente uma função em Python que retorne o valor da função ReLU para uma dada entrada\n",
        "- Plote o gráfico da função no intervalo de entrada previamente especificado\n",
        "- Implemente uma função que retorne o valor da derivada da função ReLU"
      ]
    },
    {
      "cell_type": "code",
      "metadata": {
        "id": "3nUAzdnw4l_u"
      },
      "source": [
        "def reLU(x):\n",
        "    return np.maximum(0, x)\n",
        "\n",
        "def derivada_reLU(x):\n",
        "    x[x<=0] = 0\n",
        "    x[x>0] = 1\n",
        "    return x"
      ],
      "execution_count": 41,
      "outputs": []
    },
    {
      "cell_type": "code",
      "metadata": {
        "id": "H6YS8IOh4l_x",
        "outputId": "9b91ab5a-f3eb-4676-b76d-bc9227030d61",
        "colab": {
          "base_uri": "https://localhost:8080/",
          "height": 499
        }
      },
      "source": [
        "plt.figure(figsize=(12,8))\n",
        "plt.plot(amostra, reLU(amostra), label=\"relu\")\n",
        "plt.plot(amostra, derivada_reLU(reLU(amostra)), label=\"derivative\")\n",
        "plt.title(\"ReLU\")\n",
        "plt.legend()\n",
        "plt.show()\n"
      ],
      "execution_count": 47,
      "outputs": [
        {
          "output_type": "display_data",
          "data": {
            "image/png": "[encoded data removed]",
            "text/plain": [
              "<Figure size 864x576 with 1 Axes>"
            ]
          },
          "metadata": {
            "tags": [],
            "needs_background": "light"
          }
        }
      ]
    },
    {
      "cell_type": "markdown",
      "metadata": {
        "id": "CDAIaByt4l_0"
      },
      "source": [
        "### Função de ativação linear (purelin)\n",
        "\n",
        "$$f(x) = x$$\n",
        "\n",
        "- Implemente uma função em Python que retorne o valor da função linear para uma dada entrada\n",
        "- Plote o gráfico da função no intervalo de entrada previamente especificado\n",
        "- Implemente uma função que retorne o valor da derivada da função em questão"
      ]
    },
    {
      "cell_type": "code",
      "metadata": {
        "id": "kHcqTzcj4l_1"
      },
      "source": [
        "\n",
        "def linear(x):\n",
        "    return x\n",
        "\n",
        "def derivada_linear(x):\n",
        "    return [1] * x.shape[0]"
      ],
      "execution_count": 55,
      "outputs": []
    },
    {
      "cell_type": "code",
      "metadata": {
        "id": "WALDxJDV4l_6",
        "outputId": "a5fc0ef0-8ae3-427d-8c29-ed7a9aae1b3f",
        "colab": {
          "base_uri": "https://localhost:8080/",
          "height": 320
        }
      },
      "source": [
        "# linear(amostra)\n",
        "derivada_linear(amostra)\n",
        "fig, ax = plt.subplots(figsize=(9, 5))\n",
        "ax.spines['left'].set_position('center')\n",
        "ax.spines['right'].set_color('none')\n",
        "ax.spines['top'].set_color('none')\n",
        "ax.xaxis.set_ticks_position('bottom')\n",
        "ax.yaxis.set_ticks_position('left')\n",
        "ax.plot(amostra,linear(amostra), color=\"#ff8c00\", linewidth=3, label=\"linear\")\n",
        "ax.plot(amostra,derivada_linear(amostra), color=\"#3a925e\", linewidth=2, label=\"derivative\")\n",
        "ax.legend(loc=\"upper left\", frameon=False)\n",
        "fig.show()"
      ],
      "execution_count": 59,
      "outputs": [
        {
          "output_type": "display_data",
          "data": {
            "image/png": "[encoded data removed]",
            "text/plain": [
              "<Figure size 648x360 with 1 Axes>"
            ]
          },
          "metadata": {
            "tags": [],
            "needs_background": "light"
          }
        }
      ]
    },
    {
      "cell_type": "markdown",
      "metadata": {
        "id": "7KCbakMH4l_-"
      },
      "source": [
        "### Função de ativação Tangente Hiperbólica\n",
        "\n",
        "$$f(x) = tanh(x)$$\n",
        "\n",
        "- Implemente uma função em Python que retorne o valor da função tangente hiperbólica para uma dada entrada\n",
        "- Plote o gráfico da função no intervalo de entrada previamente especificado\n",
        "- Implemente uma função que retorne o valor da derivada da função em questão\n",
        "- Utilize bibliotecas para auxiliar nesta tarefa\n",
        "- Considere o intervalo (-1,1)"
      ]
    },
    {
      "cell_type": "code",
      "metadata": {
        "id": "WE3gwKQ34l_-"
      },
      "source": [
        "def tanh(x):\n",
        "    return np.tanH(x), x\n",
        "\n",
        "def derivada_tanH(r_tanh):\n",
        "    return 1 - np.square(r_tanh)"
      ],
      "execution_count": null,
      "outputs": []
    },
    {
      "cell_type": "code",
      "metadata": {
        "id": "qFy5FhtE4mAB"
      },
      "source": [
        ""
      ],
      "execution_count": null,
      "outputs": []
    },
    {
      "cell_type": "markdown",
      "metadata": {
        "id": "FEDToPIB4mAE"
      },
      "source": [
        "### Função de Ativação Gaussiana\n",
        "\n",
        "$$f(x) = \\exp \\left( \\frac{-(x - \\mu)^2}{2\\sigma^2} \\right)$$\n",
        "\n",
        "- $\\mu$ é o ponto médio (centro) da curva\n",
        "- $\\sigma$ denota o raio de abertura\n",
        "- Implemente uma função em Python que retorne o valor da função gaussiana para uma dada entrada\n",
        "- Plote o gráfico da função no intervalo de entrada previamente especificado\n",
        "- Implemente uma função que retorne o valor da derivada da função em questão\n",
        "\n",
        "\n",
        "Considere também os seguintes valores ao plotar a função\n",
        "\n",
        "- Parâmetros nomeados $\\mu = 0$ e $\\sigma = 1$\n",
        "- $\\mu = 0, \\sigma = 0.3$\n",
        "- $\\mu = 0, \\sigma = 0.5$\n",
        "- $\\mu = 0, \\sigma = 0.7$\n",
        "- $\\mu = 0, \\sigma = 0.9$\n",
        "- $\\mu = 0, \\sigma = 1.1$"
      ]
    },
    {
      "cell_type": "code",
      "metadata": {
        "id": "LYyfRzIJ4mAE"
      },
      "source": [
        "def gauss(x, mu, sig):\n",
        "    return np.exp(-np.power(x - mu, 2.) / (2 * np.power(sig, 2.)))\n",
        "\n",
        "def derivada_gauss(x, mu, sig):\n",
        "    return (((-x - mu) / (sig**2)) * gaussiana(x, mu, sig))"
      ],
      "execution_count": null,
      "outputs": []
    },
    {
      "cell_type": "code",
      "metadata": {
        "id": "9D8NPS5L4mAH"
      },
      "source": [
        ""
      ],
      "execution_count": null,
      "outputs": []
    },
    {
      "cell_type": "code",
      "metadata": {
        "id": "cvJpz4nC4mAK"
      },
      "source": [
        ""
      ],
      "execution_count": null,
      "outputs": []
    },
    {
      "cell_type": "markdown",
      "metadata": {
        "id": "ePY9kz6W4mAM"
      },
      "source": [
        "### Função de Ativação Leaky ReLU\n",
        "\n",
        "$$f(x) = \\left\\{\\begin{array}{cc} 0.01\\cdot x & x < 0\\\\\n",
        "x & x \\geq 0\n",
        "\\end{array}\n",
        "\\right.$$\n",
        "\n",
        "- Implemente uma função em Python que retorne o valor da função Leaky ReLU para uma dada entrada\n",
        "- Plote o gráfico da função no intervalo de entrada previamente especificado\n",
        "- Implemente uma função que retorne o valor da derivada da função Leaky ReLU"
      ]
    },
    {
      "cell_type": "code",
      "metadata": {
        "id": "-ppKuWMu4mAN"
      },
      "source": [
        "def leaky_reLu(x):\n",
        "    return np.maximum(0.1 * x, x), x\n",
        "\n",
        "def derivada_leaky_reLu(x):\n",
        "    dx = np.ones_like(x)\n",
        "    dx[x < 0] = 0.01\n",
        "    return dx, x"
      ],
      "execution_count": null,
      "outputs": []
    },
    {
      "cell_type": "code",
      "metadata": {
        "id": "VlmdcKVT4mAP"
      },
      "source": [
        ""
      ],
      "execution_count": null,
      "outputs": []
    },
    {
      "cell_type": "code",
      "metadata": {
        "id": "B98IqUkD4mAS"
      },
      "source": [
        ""
      ],
      "execution_count": null,
      "outputs": []
    }
  ]
}