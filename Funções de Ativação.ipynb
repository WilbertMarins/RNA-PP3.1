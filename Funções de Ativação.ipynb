{
 "cells": [
  {
   "cell_type": "markdown",
   "metadata": {},
   "source": [
    "# Conhecendo as Funções de Ativação\n",
    "\n",
    "**Disciplina**: Redes Neurais Artificiais 2020.1  \n",
    "**Professora**: Elloá B. Guedes (ebgcosta@uea.edu.br)  \n",
    "**Github**: http://github.com/elloa  \n",
    "**Alunos**: Vitor Simões e Wilbert Marins\n",
    "\n",
    "## Apresentação\n",
    "\n",
    "No contexto das redes neurais artificiais, as funções de ativação representam as transformações aplicadas às entradas do neurônio sujeitas aos respectivos graus de contribuição (pesos) para decidir se este neurônio deve ou não disparar. Ao considerar as redes neurais feedforward multilayer perceptron, tais funções de ativação devem ser contínuas e deriváveis, sendo responsáveis por realizarem transformações não-lineares sucessivas da informação fornecida na camada de entrada até a camada de saída, fazendo com que o problema vá tornando-se linearmente separável à medida que adentra-se na rede.\n",
    "\n",
    "Neste notebook, o seu objetivo é conhecer melhor as funções de ativação disponíveis na literatura e suas respectivas derivadas. Você irá construir gráficos que ilustrem tais funções.\n",
    "\n",
    "## Requisitos\n",
    "\n",
    "- Utilizar numpy\n",
    "- Plotar com matplotlib"
   ]
  },
  {
   "cell_type": "code",
   "execution_count": 1,
   "metadata": {},
   "outputs": [],
   "source": [
    "# Célula reservada para importar bibliotecas\n",
    "import numpy as np\n",
    "import matplotlib.pyplot as plt"
   ]
  },
  {
   "cell_type": "markdown",
   "metadata": {},
   "source": [
    "## Intervalo de Entrada\n",
    "\n",
    "- Todas as funções devem ser ilustradas no intervalo [-4,+4] com amostras intervaladas em 0.1 no eixo x\n",
    "- Consulte a documentação de numpy.arange sobre como fazê-lo\n",
    "- https://numpy.org/doc/stable/reference/generated/numpy.arange.html#numpy.arange\n",
    "- Quantas amostras há em tal espaço de entrada?\n",
    "- Qual o tipo deste dado?\n",
    "- Qual a forma do espaço de entrada?"
   ]
  },
  {
   "cell_type": "code",
   "execution_count": 11,
   "metadata": {
    "tags": []
   },
   "outputs": [],
   "source": [
    "#intervalo de -4 até +4. Com espaçamento 0.1\n",
    "amostra=np.arange(-4,4,0.1)\n"
   ]
  },
  {
   "cell_type": "code",
   "execution_count": 12,
   "metadata": {
    "tags": []
   },
   "outputs": [
    {
     "output_type": "stream",
     "name": "stdout",
     "text": "A quantidade de amostras contida nos dados é:  80\n"
    }
   ],
   "source": [
    "print(\"A quantidade de amostras contida nos dados é: \", amostra.shape[0])"
   ]
  },
  {
   "cell_type": "code",
   "execution_count": 13,
   "metadata": {
    "tags": []
   },
   "outputs": [
    {
     "output_type": "stream",
     "name": "stdout",
     "text": "A tipagem dos dados é:  float64\n"
    }
   ],
   "source": [
    "print(\"A tipagem dos dados é: \",(amostra.dtype))"
   ]
  },
  {
   "cell_type": "code",
   "execution_count": 14,
   "metadata": {
    "tags": []
   },
   "outputs": [
    {
     "output_type": "stream",
     "name": "stdout",
     "text": "A forma do espaço de entrada é: <class 'numpy.ndarray'>\n"
    }
   ],
   "source": [
    "print(\"A forma do espaço de entrada é:\",type(amostra))"
   ]
  },
  {
   "cell_type": "markdown",
   "metadata": {},
   "source": [
    "### Função de ativação sigmoide\n",
    "\n",
    "$$f(x) = \\frac{1}{1 + e^{-\\beta \\cdot x}}$$\n",
    "\n",
    "- Implemente uma função em Python que retorne o valor da função sigmóide para uma dada entrada\n",
    "- Nesta função, considere beta como parâmetro nomeado com valor igual a 1.0\n",
    "- Plote o gráfico da função no intervalo de entrada previamente especificado\n",
    "- Implemente uma função que retorne o valor da derivada da função sigmoide\n",
    "- Em um mesmo gráfico, ilustre 3 valores distintos para $\\beta$:\n",
    "  - $\\beta = 0.7$ na cor laranja\n",
    "  - $\\beta = 0.5$ na cor verde\n",
    "  - $\\beta = 0.3$ na cor vermelha\n",
    "  - Use legendas no gráfico"
   ]
  },
  {
   "cell_type": "code",
   "execution_count": 15,
   "metadata": {},
   "outputs": [],
   "source": [
    "def sigmoide(x,beta):\n",
    "    return 1 / (1 + np.exp(-beta*x)), x\n",
    "\n",
    "def derivada_sigmoide(x):\n",
    "    return x * (1 - x)"
   ]
  },
  {
   "cell_type": "code",
   "execution_count": null,
   "metadata": {},
   "outputs": [],
   "source": []
  },
  {
   "cell_type": "code",
   "execution_count": null,
   "metadata": {},
   "outputs": [],
   "source": []
  },
  {
   "cell_type": "markdown",
   "metadata": {},
   "source": [
    "### Função de Ativação ReLU (Unidade Linear Retificada)\n",
    "\n",
    "$$f(x) = max(0,x)$$\n",
    "\n",
    "- Implemente uma função em Python que retorne o valor da função ReLU para uma dada entrada\n",
    "- Plote o gráfico da função no intervalo de entrada previamente especificado\n",
    "- Implemente uma função que retorne o valor da derivada da função ReLU"
   ]
  },
  {
   "cell_type": "code",
   "execution_count": 16,
   "metadata": {},
   "outputs": [],
   "source": [
    "def reLU(x):\n",
    "    return np.maximum(0, x), x\n",
    "\n",
    "def derivada_reLU(x):\n",
    "    x[x<=0] = 0\n",
    "    x[x>0] = 1\n",
    "    return x"
   ]
  },
  {
   "cell_type": "code",
   "execution_count": null,
   "metadata": {},
   "outputs": [],
   "source": []
  },
  {
   "cell_type": "markdown",
   "metadata": {},
   "source": [
    "### Função de ativação linear (purelin)\n",
    "\n",
    "$$f(x) = x$$\n",
    "\n",
    "- Implemente uma função em Python que retorne o valor da função linear para uma dada entrada\n",
    "- Plote o gráfico da função no intervalo de entrada previamente especificado\n",
    "- Implemente uma função que retorne o valor da derivada da função em questão"
   ]
  },
  {
   "cell_type": "code",
   "execution_count": 17,
   "metadata": {},
   "outputs": [],
   "source": [
    "\n",
    "def linear(x):\n",
    "    return x\n",
    "\n",
    "def derivada_linear():\n",
    "    return 1"
   ]
  },
  {
   "cell_type": "code",
   "execution_count": null,
   "metadata": {},
   "outputs": [],
   "source": []
  },
  {
   "cell_type": "code",
   "execution_count": null,
   "metadata": {},
   "outputs": [],
   "source": []
  },
  {
   "cell_type": "markdown",
   "metadata": {},
   "source": [
    "### Função de ativação Tangente Hiperbólica\n",
    "\n",
    "$$f(x) = tanh(x)$$\n",
    "\n",
    "- Implemente uma função em Python que retorne o valor da função tangente hiperbólica para uma dada entrada\n",
    "- Plote o gráfico da função no intervalo de entrada previamente especificado\n",
    "- Implemente uma função que retorne o valor da derivada da função em questão\n",
    "- Utilize bibliotecas para auxiliar nesta tarefa\n",
    "- Considere o intervalo (-1,1)"
   ]
  },
  {
   "cell_type": "code",
   "execution_count": 22,
   "metadata": {},
   "outputs": [],
   "source": [
    "def tanh(x):\n",
    "    return np.tanH(x), x\n",
    "\n",
    "def derivada_tanH(r_tanh):\n",
    "    return 1 - np.square(r_tanh)"
   ]
  },
  {
   "cell_type": "code",
   "execution_count": null,
   "metadata": {},
   "outputs": [],
   "source": []
  },
  {
   "cell_type": "markdown",
   "metadata": {},
   "source": [
    "### Função de Ativação Gaussiana\n",
    "\n",
    "$$f(x) = \\exp \\left( \\frac{-(x - \\mu)^2}{2\\sigma^2} \\right)$$\n",
    "\n",
    "- $\\mu$ é o ponto médio (centro) da curva\n",
    "- $\\sigma$ denota o raio de abertura\n",
    "- Implemente uma função em Python que retorne o valor da função gaussiana para uma dada entrada\n",
    "- Plote o gráfico da função no intervalo de entrada previamente especificado\n",
    "- Implemente uma função que retorne o valor da derivada da função em questão\n",
    "\n",
    "\n",
    "Considere também os seguintes valores ao plotar a função\n",
    "\n",
    "- Parâmetros nomeados $\\mu = 0$ e $\\sigma = 1$\n",
    "- $\\mu = 0, \\sigma = 0.3$\n",
    "- $\\mu = 0, \\sigma = 0.5$\n",
    "- $\\mu = 0, \\sigma = 0.7$\n",
    "- $\\mu = 0, \\sigma = 0.9$\n",
    "- $\\mu = 0, \\sigma = 1.1$"
   ]
  },
  {
   "cell_type": "code",
   "execution_count": 21,
   "metadata": {},
   "outputs": [],
   "source": [
    "def gauss(x, mu, sig):\n",
    "    return np.exp(-np.power(x - mu, 2.) / (2 * np.power(sig, 2.)))\n",
    "\n",
    "def derivada_gauss(x, mu, sig):\n",
    "    return (((-x - mu) / (sig**2)) * gaussiana(x, mu, sig))"
   ]
  },
  {
   "cell_type": "code",
   "execution_count": null,
   "metadata": {},
   "outputs": [],
   "source": []
  },
  {
   "cell_type": "code",
   "execution_count": null,
   "metadata": {},
   "outputs": [],
   "source": []
  },
  {
   "cell_type": "markdown",
   "metadata": {},
   "source": [
    "### Função de Ativação Leaky ReLU\n",
    "\n",
    "$$f(x) = \\left\\{\\begin{array}{cc} 0.01\\cdot x & x < 0\\\\\n",
    "x & x \\geq 0\n",
    "\\end{array}\n",
    "\\right.$$\n",
    "\n",
    "- Implemente uma função em Python que retorne o valor da função Leaky ReLU para uma dada entrada\n",
    "- Plote o gráfico da função no intervalo de entrada previamente especificado\n",
    "- Implemente uma função que retorne o valor da derivada da função Leaky ReLU"
   ]
  },
  {
   "cell_type": "code",
   "execution_count": 19,
   "metadata": {},
   "outputs": [],
   "source": [
    "def leaky_reLu(x):\n",
    "    return np.maximum(0.1 * x, x), x\n",
    "\n",
    "def derivada_leaky_reLu(x):\n",
    "    dx = np.ones_like(x)\n",
    "    dx[x < 0] = 0.01\n",
    "    return dx, x"
   ]
  },
  {
   "cell_type": "code",
   "execution_count": null,
   "metadata": {},
   "outputs": [],
   "source": []
  },
  {
   "cell_type": "code",
   "execution_count": null,
   "metadata": {},
   "outputs": [],
   "source": []
  }
 ],
 "metadata": {
  "kernelspec": {
   "display_name": "Python 3.7.8 64-bit",
   "language": "python",
   "name": "python_defaultSpec_1602027522147"
  },
  "language_info": {
   "codemirror_mode": {
    "name": "ipython",
    "version": 3
   },
   "file_extension": ".py",
   "mimetype": "text/x-python",
   "name": "python",
   "nbconvert_exporter": "python",
   "pygments_lexer": "ipython3",
   "version": "3.7.8-final"
  }
 },
 "nbformat": 4,
 "nbformat_minor": 4
}